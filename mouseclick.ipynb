{
 "cells": [
  {
   "cell_type": "code",
   "execution_count": null,
   "id": "c1f01299",
   "metadata": {},
   "outputs": [],
   "source": [
    "import pygame as pg\n",
    "pg.init()\n",
    "import numpy as np\n",
    "\n",
    "a = np.random.randint(0,2, size = 100)\n",
    "b = a.reshape(10,10) \n",
    "rows=10 #considering a square grid, columns = rows\n",
    "window_size = 500\n",
    "cell_size = window_size/rows \n",
    "screen = pg.display.set_mode((window_size, window_size))\n",
    "title = pg.display.set_caption(\"tissue sample\")\n",
    "\n",
    "for row in range(rows) :\n",
    "    for column in range(rows):\n",
    "        if (b[row][column] == 0) :\n",
    "            pg.draw.rect(screen, (0,255,0), pg.Rect(row*cell_size, column*cell_size, cell_size, cell_size))\n",
    "            pg.draw.rect(screen, (0,0,0), pg.Rect(row*cell_size, column*cell_size, cell_size, cell_size),1)\n",
    "            pg.display.update()\n",
    "        else :\n",
    "            pg.draw.rect(screen, (255,0,0), pg.Rect(row*cell_size, column*cell_size, cell_size, cell_size))\n",
    "            pg.draw.rect(screen, (0,0,0), pg.Rect(row*cell_size, column*cell_size, cell_size, cell_size),1)\n",
    "            pg.display.update()\n",
    "\n",
    "running = True\n",
    "while running:\n",
    "    for event in pg.event.get():\n",
    "        if event.type == pg.QUIT:\n",
    "            running = False\n",
    "        elif event.type == pg.MOUSEBUTTONDOWN:\n",
    "            (x,y) = pg.mouse.get_pos()\n",
    "            print(x, y)\n",
    "            row_pos = cell_size * (int(x/cell_size)); col_pos = cell_size * (int(y/cell_size))\n",
    "            pg.draw.rect(screen, (255,255,255), pg.Rect(row_pos, col_pos, cell_size, cell_size))\n",
    "            pg.display.update()\n",
    "\n",
    "pg.quit()"
   ]
  }
 ],
 "metadata": {
  "kernelspec": {
   "display_name": "Python 3",
   "language": "python",
   "name": "python3"
  },
  "language_info": {
   "codemirror_mode": {
    "name": "ipython",
    "version": 3
   },
   "file_extension": ".py",
   "mimetype": "text/x-python",
   "name": "python",
   "nbconvert_exporter": "python",
   "pygments_lexer": "ipython3",
   "version": "3.13.5"
  }
 },
 "nbformat": 4,
 "nbformat_minor": 5
}
