{
 "cells": [
  {
   "cell_type": "code",
   "execution_count": null,
   "id": "c1f01299",
   "metadata": {},
   "outputs": [
    {
     "name": "stdout",
     "output_type": "stream",
     "text": [
      "pygame 2.6.1 (SDL 2.28.4, Python 3.13.5)\n",
      "Hello from the pygame community. https://www.pygame.org/contribute.html\n"
     ]
    },
    {
     "ename": "TypeError",
     "evalue": "'float' object cannot be interpreted as an integer",
     "output_type": "error",
     "traceback": [
      "\u001b[31m---------------------------------------------------------------------------\u001b[39m",
      "\u001b[31mTypeError\u001b[39m                                 Traceback (most recent call last)",
      "\u001b[36mCell\u001b[39m\u001b[36m \u001b[39m\u001b[32mIn[1]\u001b[39m\u001b[32m, line 21\u001b[39m\n\u001b[32m     19\u001b[39m         \u001b[38;5;28;01melse\u001b[39;00m :\n\u001b[32m     20\u001b[39m             pg.draw.rect(screen, (\u001b[32m255\u001b[39m,\u001b[32m0\u001b[39m,\u001b[32m0\u001b[39m), pg.Rect(row*cell_size, column*cell_size, cell_size, cell_size))\n\u001b[32m---> \u001b[39m\u001b[32m21\u001b[39m             \u001b[43mpg\u001b[49m\u001b[43m.\u001b[49m\u001b[43mdraw\u001b[49m\u001b[43m.\u001b[49m\u001b[43mrect\u001b[49m\u001b[43m(\u001b[49m\u001b[43mscreen\u001b[49m\u001b[43m,\u001b[49m\u001b[43m \u001b[49m\u001b[43m(\u001b[49m\u001b[32;43m0\u001b[39;49m\u001b[43m,\u001b[49m\u001b[43m \u001b[49m\u001b[32;43m0\u001b[39;49m\u001b[43m,\u001b[49m\u001b[43m \u001b[49m\u001b[32;43m0\u001b[39;49m\u001b[43m)\u001b[49m\u001b[43m,\u001b[49m\u001b[43m \u001b[49m\u001b[43mpg\u001b[49m\u001b[43m.\u001b[49m\u001b[43mRect\u001b[49m\u001b[43m(\u001b[49m\u001b[43mrow\u001b[49m\u001b[43m*\u001b[49m\u001b[43mcell_size\u001b[49m\u001b[43m,\u001b[49m\u001b[43m \u001b[49m\u001b[43mcolumn\u001b[49m\u001b[43m*\u001b[49m\u001b[43mcell_size\u001b[49m\u001b[43m,\u001b[49m\u001b[43m \u001b[49m\u001b[43mcell_size\u001b[49m\u001b[43m,\u001b[49m\u001b[43m \u001b[49m\u001b[43mcell_size\u001b[49m\u001b[43m)\u001b[49m\u001b[43m,\u001b[49m\u001b[43m \u001b[49m\u001b[32;43m0.5\u001b[39;49m\u001b[43m)\u001b[49m\n\u001b[32m     22\u001b[39m             pg.display.update()\n\u001b[32m     24\u001b[39m running = \u001b[38;5;28;01mTrue\u001b[39;00m\n",
      "\u001b[31mTypeError\u001b[39m: 'float' object cannot be interpreted as an integer"
     ]
    },
    {
     "ename": "",
     "evalue": "",
     "output_type": "error",
     "traceback": [
      "\u001b[1;31mThe Kernel crashed while executing code in the current cell or a previous cell. \n",
      "\u001b[1;31mPlease review the code in the cell(s) to identify a possible cause of the failure. \n",
      "\u001b[1;31mClick <a href='https://aka.ms/vscodeJupyterKernelCrash'>here</a> for more info. \n",
      "\u001b[1;31mView Jupyter <a href='command:jupyter.viewOutput'>log</a> for further details."
     ]
    }
   ],
   "source": [
    "import pygame as pg\n",
    "pg.init()\n",
    "import numpy as np\n",
    "\n",
    "a = np.random.randint(0,2, size = 100)\n",
    "b = a.reshape(10,10) \n",
    "rows=10 #considering a square grid, columns = rows\n",
    "window_size = 500\n",
    "cell_size = window_size/rows \n",
    "screen = pg.display.set_mode((window_size, window_size))\n",
    "title = pg.display.set_caption(\"tissue sample\")\n",
    "\n",
    "for row in range(rows) :\n",
    "    for column in range(rows):\n",
    "        if (b[row][column] == 0) :\n",
    "            pg.draw.rect(screen, (0,255,0), pg.Rect(row*cell_size, column*cell_size, cell_size, cell_size))\n",
    "            pg.draw.rect(screen, (0, 0, 0), pg.Rect(row*cell_size, column*cell_size, cell_size, cell_size), 1)\n",
    "            pg.display.update()\n",
    "        else :\n",
    "            pg.draw.rect(screen, (255,0,0), pg.Rect(row*cell_size, column*cell_size, cell_size, cell_size))\n",
    "            pg.draw.rect(screen, (0, 0, 0), pg.Rect(row*cell_size, column*cell_size, cell_size, cell_size), 0.5)\n",
    "            pg.display.update()\n",
    "\n",
    "running = True\n",
    "while running:\n",
    "    for event in pg.event.get():\n",
    "        if event.type == pg.QUIT:\n",
    "            running = False\n",
    "\n",
    "pg.quit()"
   ]
  }
 ],
 "metadata": {
  "kernelspec": {
   "display_name": "Python 3",
   "language": "python",
   "name": "python3"
  },
  "language_info": {
   "codemirror_mode": {
    "name": "ipython",
    "version": 3
   },
   "file_extension": ".py",
   "mimetype": "text/x-python",
   "name": "python",
   "nbconvert_exporter": "python",
   "pygments_lexer": "ipython3",
   "version": "3.13.5"
  }
 },
 "nbformat": 4,
 "nbformat_minor": 5
}
