{
 "cells": [
  {
   "cell_type": "code",
   "execution_count": null,
   "id": "d332510d",
   "metadata": {},
   "outputs": [],
   "source": [
    "import numpy as np\n",
    "import matplotlib.pyplot as plt\n",
    "\n",
    "# Getting dimensions from user\n",
    "rows = 20\n",
    "cols = 20\n",
    "\n",
    "# Creating a 2D numpy array with values 0 (healthy) and 1 (damaged)\n",
    "# 80% of the cells are healthy (0), 20% are damaged (1)\n",
    "tissue_sample = np.random.choice([0, 1], size=(rows, cols), p=[0.8, 0.2])\n",
    "\n",
    "# creating a color map, 'RdYlGn_r' = reversed Red-Yellow-Green; makes 0 = green, 1 = red\n",
    "cmap = plt.cm.get_cmap('RdYlGn_r', 2)\n",
    "\n",
    "# to visualize the tissue sample\n",
    "plt.figure(figsize=(6, 6))\n",
    "plt.imshow(tissue_sample, cmap=cmap, vmin=0, vmax=1)  # vmin/vmax set color bounds\n",
    "plt.title(\"Tissue Sample Visualization\")\n",
    "plt.colorbar(ticks=[0, 1], label='Cell Health')  # Adds a colorbar legend\n",
    "plt.xticks([])  # Remove x-axis ticks\n",
    "plt.yticks([])  # Remove y-axis ticks\n",
    "plt.show()\n"
   ]
  }
 ],
 "metadata": {
  "kernelspec": {
   "display_name": "Python 3",
   "language": "python",
   "name": "python3"
  },
  "language_info": {
   "codemirror_mode": {
    "name": "ipython",
    "version": 3
   },
   "file_extension": ".py",
   "mimetype": "text/x-python",
   "name": "python",
   "nbconvert_exporter": "python",
   "pygments_lexer": "ipython3",
   "version": "3.13.3"
  }
 },
 "nbformat": 4,
 "nbformat_minor": 5
}
